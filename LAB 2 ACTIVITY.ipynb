{
 "cells": [
  {
   "cell_type": "code",
   "execution_count": 1,
   "id": "ef9c4aa2-8dae-4723-83b3-a1524f4127e1",
   "metadata": {},
   "outputs": [
    {
     "name": "stdin",
     "output_type": "stream",
     "text": [
      "Enter a number: 25\n"
     ]
    },
    {
     "name": "stdout",
     "output_type": "stream",
     "text": [
      "The number is Odd.\n"
     ]
    }
   ],
   "source": [
    "# Take input from the user\n",
    "num=int(input(\"Enter a number:\"))\n",
    "#Use ternary operator to check even or odd\n",
    "result=\"Even\" if num%2==0 else \"Odd\"\n",
    "#Print the result\n",
    "print(f\"The number is {result}.\")\n",
    "\n"
   ]
  },
  {
   "cell_type": "code",
   "execution_count": 2,
   "id": "e2b6994a-5ce0-4b22-b143-2aea6405d006",
   "metadata": {},
   "outputs": [
    {
     "name": "stdin",
     "output_type": "stream",
     "text": [
      "Enter first number: 20\n",
      "Enter second number: 29\n"
     ]
    },
    {
     "name": "stdout",
     "output_type": "stream",
     "text": [
      "Before swapping:num1=(num1),num2=29\n",
      "After swapping:num1=(num1),num2=20\n"
     ]
    }
   ],
   "source": [
    "#Take two numbers as input from the user\n",
    "num1=int(input(\"Enter first number:\"))\n",
    "num2=int(input(\"Enter second number:\"))\n",
    "print(f\"Before swapping:num1=(num1),num2={num2}\")\n",
    "#Swapping the numbers\n",
    "num1,num2=num2,num1\n",
    "print(f\"After swapping:num1=(num1),num2={num2}\") "
   ]
  },
  {
   "cell_type": "code",
   "execution_count": 3,
   "id": "8d021a7f-2268-4600-a3df-57c880cf1d38",
   "metadata": {},
   "outputs": [
    {
     "name": "stdin",
     "output_type": "stream",
     "text": [
      "Enter distance in kilometers: 8\n"
     ]
    },
    {
     "name": "stdout",
     "output_type": "stream",
     "text": [
      "8.0kilometers is equal to4.970968 miles.\n"
     ]
    }
   ],
   "source": [
    "#Take distance in kilometers from the user \n",
    "kilometers=float(input(\"Enter distance in kilometers:\"))\n",
    "#Conversion factor\n",
    "conversion_factor=0.621371\n",
    "#Calculate miles\n",
    "miles=kilometers*conversion_factor\n",
    "#Display the result\n",
    "print(f\"{kilometers}kilometers is equal to{miles} miles.\")"
   ]
  },
  {
   "cell_type": "code",
   "execution_count": 4,
   "id": "65fb0ddc-504f-46d8-818e-d61ef6104396",
   "metadata": {},
   "outputs": [
    {
     "name": "stdout",
     "output_type": "stream",
     "text": [
      "Simple interest=Rs.50.0\n"
     ]
    }
   ],
   "source": [
    "#Given values\n",
    "P=200 #Principal\n",
    "R=5   #Rate of interest per year\n",
    "T=5   #Time in years\n",
    "#Calculate simple interest\n",
    "SI=(P*R*T)/100\n",
    "#Print the result\n",
    "print(f\"Simple interest=Rs.{SI}\")\n"
   ]
  },
  {
   "cell_type": "code",
   "execution_count": null,
   "id": "28ad30b1-d21d-42bd-b82b-487a21906056",
   "metadata": {},
   "outputs": [],
   "source": []
  }
 ],
 "metadata": {
  "kernelspec": {
   "display_name": "Python 3 (ipykernel)",
   "language": "python",
   "name": "python3"
  },
  "language_info": {
   "codemirror_mode": {
    "name": "ipython",
    "version": 3
   },
   "file_extension": ".py",
   "mimetype": "text/x-python",
   "name": "python",
   "nbconvert_exporter": "python",
   "pygments_lexer": "ipython3",
   "version": "3.12.4"
  }
 },
 "nbformat": 4,
 "nbformat_minor": 5
}
