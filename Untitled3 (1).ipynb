{
 "cells": [
  {
   "cell_type": "code",
   "execution_count": 1,
   "id": "a7db44eb-f57e-4859-9e5f-787f348ec752",
   "metadata": {},
   "outputs": [
    {
     "name": "stdin",
     "output_type": "stream",
     "text": [
      "Enter a number: 7\n"
     ]
    },
    {
     "name": "stdout",
     "output_type": "stream",
     "text": [
      "7is Odd.\n"
     ]
    }
   ],
   "source": [
    "#Check if a number is even or odd\n",
    "#input from user\n",
    "num=int(input(\"Enter a number:\"))\n",
    "#Check even or odd\n",
    "if num% 2==0:\n",
    "    print(f\"{num}is Even.\")\n",
    "else:\n",
    "    print(f\"{num}is Odd.\")\n",
    "    "
   ]
  },
  {
   "cell_type": "code",
   "execution_count": 1,
   "id": "4d3c25c1-6605-44b3-9744-f3b9e0ea7e14",
   "metadata": {},
   "outputs": [
    {
     "name": "stdout",
     "output_type": "stream",
     "text": [
      "Enter marks for 5 subjects(out of 100):\n"
     ]
    },
    {
     "name": "stdin",
     "output_type": "stream",
     "text": [
      "Subject1marks: 95\n",
      "Subject2marks: 81\n",
      "Subject3marks: 70\n",
      "Subject4marks: 63\n",
      "Subject5marks: 55\n"
     ]
    },
    {
     "name": "stdout",
     "output_type": "stream",
     "text": [
      "\n",
      "---Result---\n",
      "Total Marks: 364.0\n",
      "Average    : 72.8\n",
      "Grade      : B\n"
     ]
    }
   ],
   "source": [
    "# Input : Marks of 5 subjects \n",
    "print(\"Enter marks for 5 subjects(out of 100):\")\n",
    "marks = []\n",
    "for i in range(1,6):\n",
    "    mark=float(input(f\"Subject{i}marks:\"))\n",
    "    marks.append(mark)\n",
    "# Calculate total and average\n",
    "total = sum(marks)\n",
    "average = total/5\n",
    "#Determine grade\n",
    "if average>=90:\n",
    "    grade='A+'\n",
    "elif average>=80:\n",
    "    grade='A'\n",
    "elif average>=70:\n",
    "    grade='B'\n",
    "elif average>=60:\n",
    "    grade='C'\n",
    "elif average>=50:\n",
    "    grade='D'\n",
    "else:\n",
    "    grade='F'\n",
    " #Display results\n",
    "print(\"\\n---Result---\")\n",
    "print(\"Total Marks:\",total)\n",
    "print(\"Average    :\",average)\n",
    "print(\"Grade      :\",grade)\n",
    "    \n",
    "\n",
    "\n"
   ]
  },
  {
   "cell_type": "code",
   "execution_count": 2,
   "id": "b5285adb-78cf-4513-92df-6cae5daf3e41",
   "metadata": {},
   "outputs": [
    {
     "name": "stdin",
     "output_type": "stream",
     "text": [
      "Enter a number: 2\n"
     ]
    },
    {
     "name": "stdout",
     "output_type": "stream",
     "text": [
      "2 is a prime number\n"
     ]
    }
   ],
   "source": [
    "#Check if a number is prime\n",
    "#Input from user\n",
    "num = int(input(\"Enter a number:\"))\n",
    "#Prime check logic\n",
    "if num<=1:\n",
    "    print(num,\"is not a prime number\")\n",
    "elif num == 2:\n",
    "    print(num,\"is a prime number\")\n",
    "else:\n",
    "    for i in range(2,int(num**0.5)+1):\n",
    "        if num % i == 0:\n",
    "            print(num,\"is not a prime number\")\n",
    "            break\n",
    "        else:\n",
    "            print(num,\"is a prime number\") \n",
    "            \n",
    "    "
   ]
  },
  {
   "cell_type": "code",
   "execution_count": 4,
   "id": "151afb06-3b2d-42d3-b669-de1e9d53f165",
   "metadata": {},
   "outputs": [
    {
     "name": "stdin",
     "output_type": "stream",
     "text": [
      "Enter Student ID: 011\n",
      "Enter Student Name: Ananya\n",
      "Enter Student Age: 21\n",
      "Enter Student City: Bangalore\n",
      "Enter Student Phone Number: 9876543210\n"
     ]
    },
    {
     "name": "stdout",
     "output_type": "stream",
     "text": [
      "\n",
      "---Student Details---\n",
      "ID   : 011\n",
      "Name  : Ananya\n",
      "Age   : 21\n",
      "City   : Bangalore\n",
      "Phone Number : 9876543210\n"
     ]
    }
   ],
   "source": [
    "# Taking student details as input from the user\n",
    "#Input section\n",
    "student_id = input(\"Enter Student ID:\")\n",
    "student_name = input(\"Enter Student Name:\")\n",
    "student_age = input(\"Enter Student Age:\")\n",
    "student_city = input(\"Enter Student City:\")\n",
    "student_phone = input(\"Enter Student Phone Number:\")\n",
    "#Display section \n",
    "print(\"\\n---Student Details---\")\n",
    "print(\"ID   :\",student_id)\n",
    "print(\"Name  :\",student_name)\n",
    "print(\"Age   :\",student_age)\n",
    "print(\"City   :\",student_city)\n",
    "print(\"Phone Number :\",student_phone) "
   ]
  },
  {
   "cell_type": "code",
   "execution_count": null,
   "id": "c2e359c6-3e91-479e-b55f-521a0e450c90",
   "metadata": {},
   "outputs": [],
   "source": []
  }
 ],
 "metadata": {
  "kernelspec": {
   "display_name": "Python 3 (ipykernel)",
   "language": "python",
   "name": "python3"
  },
  "language_info": {
   "codemirror_mode": {
    "name": "ipython",
    "version": 3
   },
   "file_extension": ".py",
   "mimetype": "text/x-python",
   "name": "python",
   "nbconvert_exporter": "python",
   "pygments_lexer": "ipython3",
   "version": "3.12.4"
  }
 },
 "nbformat": 4,
 "nbformat_minor": 5
}
